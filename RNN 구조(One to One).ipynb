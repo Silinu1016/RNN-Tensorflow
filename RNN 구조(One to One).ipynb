{
 "cells": [
  {
   "cell_type": "code",
   "execution_count": 1,
   "id": "7fc1c381",
   "metadata": {},
   "outputs": [],
   "source": [
    "import datetime\n",
    "import numpy as np\n",
    "import pandas as pd\n",
    "import os\n",
    "import tensorflow as tf\n",
    "from tensorflow.keras.layers import Bidirectional, TimeDistributed, LSTM, Input, Dense, GRU,Dropout\n",
    "from tensorflow.keras.models import Model"
   ]
  },
  {
   "cell_type": "markdown",
   "id": "cab330f3",
   "metadata": {},
   "source": [
    "# Case 1 :One to One"
   ]
  },
  {
   "cell_type": "code",
   "execution_count": 2,
   "id": "de584d17",
   "metadata": {},
   "outputs": [
    {
     "name": "stdout",
     "output_type": "stream",
     "text": [
      "(6, 1, 3)\n",
      "(6, 1)\n",
      "Model: \"sequential\"\n",
      "_________________________________________________________________\n",
      "Layer (type)                 Output Shape              Param #   \n",
      "=================================================================\n",
      "simple_rnn (SimpleRNN)       (None, 2)                 12        \n",
      "_________________________________________________________________\n",
      "dense (Dense)                (None, 1)                 3         \n",
      "=================================================================\n",
      "Total params: 15\n",
      "Trainable params: 15\n",
      "Non-trainable params: 0\n",
      "_________________________________________________________________\n"
     ]
    }
   ],
   "source": [
    "# RNN 구조  One to One Model 1\n",
    "X = np.array([[[1,2,3]],[[2,3,4]],[[3,4,5]],[[4,5,6]],[[5,6,7]],[[6,7,8]]])\n",
    "Y = np.array([[4],[5],[6],[7],[8],[9]])\n",
    "# X.shape = (Data 수, Sequence Length, Input Dim)\n",
    "print(X.shape)\n",
    "# Y.shape = (Data 수, Output Dim)\n",
    "print(Y.shape)\n",
    "Model1=tf.keras.Sequential()\n",
    "Model1.add(tf.keras.layers.SimpleRNN(units=2, input_shape=(X.shape[1],X.shape[2])))\n",
    "Model1.add(tf.keras.layers.Dense(units=Y.shape[1]))\n",
    "Model1.compile(loss='mse', optimizer=tf.keras.optimizers.Adam(lr=0.001))\n",
    "Model1.summary()\n"
   ]
  },
  {
   "cell_type": "markdown",
   "id": "1175381c",
   "metadata": {},
   "source": [
    "# Case 2 :One to One"
   ]
  },
  {
   "cell_type": "code",
   "execution_count": 3,
   "id": "4eda0af7",
   "metadata": {},
   "outputs": [
    {
     "name": "stdout",
     "output_type": "stream",
     "text": [
      "(6, 2, 3)\n",
      "(6, 1)\n",
      "Model: \"sequential_1\"\n",
      "_________________________________________________________________\n",
      "Layer (type)                 Output Shape              Param #   \n",
      "=================================================================\n",
      "simple_rnn_1 (SimpleRNN)     (None, 2)                 12        \n",
      "_________________________________________________________________\n",
      "dense_1 (Dense)              (None, 1)                 3         \n",
      "=================================================================\n",
      "Total params: 15\n",
      "Trainable params: 15\n",
      "Non-trainable params: 0\n",
      "_________________________________________________________________\n"
     ]
    }
   ],
   "source": [
    "# RNN 구조  One to One Model 2\n",
    "X = np.array([[[1,2,3],[0,0,0]],[[2,3,4],[0,0,0]],[[3,4,5],[0,0,0]],[[4,5,6],[0,0,0]],[[5,6,7],[0,0,0]],[[6,7,8],[0,0,0]]])\n",
    "Y = np.array([[6],[7],[8],[9],[10],[11]])\n",
    "# X.shape = (Data 수, Sequence Length, Input Dim)\n",
    "print(X.shape)\n",
    "# Y.shape = (Data 수, Output Dim)\n",
    "print(Y.shape)\n",
    "Model2=tf.keras.Sequential()\n",
    "Model2.add(tf.keras.layers.SimpleRNN(units=2, input_shape=(X.shape[1],X.shape[2])))\n",
    "Model2.add(tf.keras.layers.Dense(units=Y.shape[1]))\n",
    "Model2.compile(loss='mse', optimizer=tf.keras.optimizers.Adam(lr=0.001))\n",
    "Model2.summary()"
   ]
  },
  {
   "cell_type": "markdown",
   "id": "c630da61",
   "metadata": {},
   "source": [
    "# Case 3 :One to One"
   ]
  },
  {
   "cell_type": "code",
   "execution_count": 4,
   "id": "60f678e2",
   "metadata": {},
   "outputs": [
    {
     "name": "stdout",
     "output_type": "stream",
     "text": [
      "(6, 1, 3)\n",
      "(6, 1)\n",
      "Model: \"sequential_2\"\n",
      "_________________________________________________________________\n",
      "Layer (type)                 Output Shape              Param #   \n",
      "=================================================================\n",
      "simple_rnn_2 (SimpleRNN)     (None, 1, 2)              12        \n",
      "_________________________________________________________________\n",
      "simple_rnn_3 (SimpleRNN)     (None, 3)                 18        \n",
      "_________________________________________________________________\n",
      "dense_2 (Dense)              (None, 1)                 4         \n",
      "=================================================================\n",
      "Total params: 34\n",
      "Trainable params: 34\n",
      "Non-trainable params: 0\n",
      "_________________________________________________________________\n"
     ]
    }
   ],
   "source": [
    "# RNN 구조  One to One Model 3\n",
    "X = np.array([[[1,2,3]],[[2,3,4]],[[3,4,5]],[[4,5,6]],[[5,6,7]],[[6,7,8]]])\n",
    "Y = np.array([[4],[5],[6],[7],[8],[9]])\n",
    "# X.shape = (Data 수, Sequence Length, Input Dim)\n",
    "print(X.shape)\n",
    "# Y.shape = (Data 수, Output Dim)\n",
    "print(Y.shape)\n",
    "Model3=tf.keras.Sequential()\n",
    "Model3.add(tf.keras.layers.SimpleRNN(units=2, input_shape=(X.shape[1],X.shape[2]),return_sequences=True))\n",
    "Model3.add(tf.keras.layers.SimpleRNN(units=3))\n",
    "Model3.add(tf.keras.layers.Dense(units=Y.shape[1]))\n",
    "Model3.compile(loss='mse', optimizer=tf.keras.optimizers.Adam(lr=0.001))\n",
    "Model3.summary()\n"
   ]
  },
  {
   "cell_type": "markdown",
   "id": "0e2fcad0",
   "metadata": {},
   "source": [
    "# Case 4 :One to One"
   ]
  },
  {
   "cell_type": "code",
   "execution_count": 5,
   "id": "bb3e394a",
   "metadata": {},
   "outputs": [
    {
     "name": "stdout",
     "output_type": "stream",
     "text": [
      "(6, 2, 3)\n",
      "(6, 1)\n",
      "Model: \"sequential_3\"\n",
      "_________________________________________________________________\n",
      "Layer (type)                 Output Shape              Param #   \n",
      "=================================================================\n",
      "simple_rnn_4 (SimpleRNN)     (None, 2, 2)              12        \n",
      "_________________________________________________________________\n",
      "simple_rnn_5 (SimpleRNN)     (None, 2, 3)              18        \n",
      "_________________________________________________________________\n",
      "simple_rnn_6 (SimpleRNN)     (None, 4)                 32        \n",
      "_________________________________________________________________\n",
      "dense_3 (Dense)              (None, 1)                 5         \n",
      "=================================================================\n",
      "Total params: 67\n",
      "Trainable params: 67\n",
      "Non-trainable params: 0\n",
      "_________________________________________________________________\n"
     ]
    }
   ],
   "source": [
    "# RNN 구조  One to One Model 4\n",
    "X = np.array([[[1,2,3],[0,0,0]],[[2,3,4],[0,0,0]],[[3,4,5],[0,0,0]],[[4,5,6],[0,0,0]],[[5,6,7],[0,0,0]],[[6,7,8],[0,0,0]]])\n",
    "Y = np.array([[6],[7],[8],[9],[10],[11]])\n",
    "# X.shape = (Data 수, Sequence Length, Input Dim)\n",
    "print(X.shape)\n",
    "# Y.shape = (Data 수, Output Dim)\n",
    "print(Y.shape)\n",
    "Model4=tf.keras.Sequential()\n",
    "Model4.add(tf.keras.layers.SimpleRNN(units=2, input_shape=(X.shape[1],X.shape[2]),return_sequences=True))\n",
    "Model4.add(tf.keras.layers.SimpleRNN(units=3,return_sequences=True))\n",
    "Model4.add(tf.keras.layers.SimpleRNN(units=4))\n",
    "Model4.add(tf.keras.layers.Dense(units=Y.shape[1]))\n",
    "Model4.compile(loss='mse', optimizer=tf.keras.optimizers.Adam(lr=0.001))\n",
    "Model4.summary()"
   ]
  },
  {
   "cell_type": "code",
   "execution_count": null,
   "id": "f629ea80",
   "metadata": {},
   "outputs": [],
   "source": []
  }
 ],
 "metadata": {
  "kernelspec": {
   "display_name": "Python 3 (ipykernel)",
   "language": "python",
   "name": "python3"
  },
  "language_info": {
   "codemirror_mode": {
    "name": "ipython",
    "version": 3
   },
   "file_extension": ".py",
   "mimetype": "text/x-python",
   "name": "python",
   "nbconvert_exporter": "python",
   "pygments_lexer": "ipython3",
   "version": "3.9.13"
  }
 },
 "nbformat": 4,
 "nbformat_minor": 5
}
