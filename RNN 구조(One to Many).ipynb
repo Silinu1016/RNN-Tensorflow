{
 "cells": [
  {
   "cell_type": "code",
   "execution_count": 1,
   "id": "e320f7e5",
   "metadata": {},
   "outputs": [],
   "source": [
    "import tensorflow as tf\n",
    "from tensorflow.keras.layers import SimpleRNN\n",
    "import numpy as np"
   ]
  },
  {
   "cell_type": "markdown",
   "id": "c15dac88",
   "metadata": {},
   "source": [
    "# Case 1 :One to Many"
   ]
  },
  {
   "cell_type": "code",
   "execution_count": 2,
   "id": "ef4030a8",
   "metadata": {},
   "outputs": [
    {
     "name": "stdout",
     "output_type": "stream",
     "text": [
      "(6, 2, 3)\n",
      "(6, 2, 1)\n",
      "Model: \"sequential\"\n",
      "_________________________________________________________________\n",
      "Layer (type)                 Output Shape              Param #   \n",
      "=================================================================\n",
      "simple_rnn (SimpleRNN)       (None, 2, 2)              12        \n",
      "_________________________________________________________________\n",
      "time_distributed (TimeDistri (None, 2, 1)              3         \n",
      "=================================================================\n",
      "Total params: 15\n",
      "Trainable params: 15\n",
      "Non-trainable params: 0\n",
      "_________________________________________________________________\n"
     ]
    }
   ],
   "source": [
    "# RNN 구조  One to Many Model 1\n",
    "X = np.array([[[1,2,3],[0,0,0]],[[2,3,4],[0,0,0]],[[3,4,5],[0,0,0]],[[4,5,6],[0,0,0]],[[5,6,7],[0,0,0]],[[6,7,8],[0,0,0]]])\n",
    "Y = np.array([[[4],[5]],[[5],[6]],[[6],[7]],[[7],[8]],[[8],[9]],[[9],[10]]])\n",
    "# X.shape = (Data 수, Sequence Length, Input Dim)\n",
    "print(X.shape)\n",
    "# Y.shape = (Data 수, Output Dim)\n",
    "print(Y.shape)\n",
    "Model1 = tf.keras.Sequential()\n",
    "Model1.add(tf.keras.layers.SimpleRNN(2, return_sequences = True, input_shape = (X.shape[1],X.shape[2])))\n",
    "Model1.add(tf.keras.layers.TimeDistributed(tf.keras.layers.Dense(units=Y.shape[2])))\n",
    "Model1.compile(loss = 'mse', optimizer = tf.keras.optimizers.Adam(lr=0.001))\n",
    "Model1.summary()\n"
   ]
  },
  {
   "cell_type": "markdown",
   "id": "2902b974",
   "metadata": {},
   "source": [
    "# Case 2 :One to Many"
   ]
  },
  {
   "cell_type": "code",
   "execution_count": 3,
   "id": "5412c421",
   "metadata": {},
   "outputs": [
    {
     "name": "stdout",
     "output_type": "stream",
     "text": [
      "(6, 2, 3)\n",
      "(6, 2, 1)\n",
      "Model: \"sequential_1\"\n",
      "_________________________________________________________________\n",
      "Layer (type)                 Output Shape              Param #   \n",
      "=================================================================\n",
      "simple_rnn_1 (SimpleRNN)     (None, 2, 2)              12        \n",
      "_________________________________________________________________\n",
      "simple_rnn_2 (SimpleRNN)     (None, 2, 3)              18        \n",
      "_________________________________________________________________\n",
      "time_distributed_1 (TimeDist (None, 2, 1)              4         \n",
      "=================================================================\n",
      "Total params: 34\n",
      "Trainable params: 34\n",
      "Non-trainable params: 0\n",
      "_________________________________________________________________\n"
     ]
    }
   ],
   "source": [
    "# RNN 구조  One to Many Model 2\n",
    "X = np.array([[[1,2,3],[0,0,0]],[[2,3,4],[0,0,0]],[[3,4,5],[0,0,0]],[[4,5,6],[0,0,0]],[[5,6,7],[0,0,0]],[[6,7,8],[0,0,0]]])\n",
    "Y = np.array([[[4],[5]],[[5],[6]],[[6],[7]],[[7],[8]],[[8],[9]],[[9],[10]]])\n",
    "# X.shape = (Data 수, Sequence Length, Input Dim)\n",
    "print(X.shape)\n",
    "# Y.shape = (Data 수, Output Dim)\n",
    "print(Y.shape)\n",
    "Model2 = tf.keras.Sequential()\n",
    "Model2.add(tf.keras.layers.SimpleRNN(2, return_sequences = True, input_shape = (X.shape[1],X.shape[2])))\n",
    "Model2.add(tf.keras.layers.SimpleRNN(3, return_sequences = True))\n",
    "Model2.add(tf.keras.layers.TimeDistributed(tf.keras.layers.Dense(units=Y.shape[2])))\n",
    "Model2.compile(loss = 'mse', optimizer = tf.keras.optimizers.Adam(lr=0.001))\n",
    "Model2.summary()\n"
   ]
  },
  {
   "cell_type": "markdown",
   "id": "81fe316c",
   "metadata": {},
   "source": [
    "# Case 3 : One to Many "
   ]
  },
  {
   "cell_type": "code",
   "execution_count": 4,
   "id": "315d5519",
   "metadata": {
    "scrolled": true
   },
   "outputs": [
    {
     "name": "stdout",
     "output_type": "stream",
     "text": [
      "(3, 1, 2)\n",
      "(3, 2, 1)\n",
      "Model: \"sequential_2\"\n",
      "_________________________________________________________________\n",
      "Layer (type)                 Output Shape              Param #   \n",
      "=================================================================\n",
      "simple_rnn_3 (SimpleRNN)     (None, 3)                 18        \n",
      "_________________________________________________________________\n",
      "repeat_vector (RepeatVector) (None, 2, 3)              0         \n",
      "_________________________________________________________________\n",
      "time_distributed_2 (TimeDist (None, 2, 1)              4         \n",
      "=================================================================\n",
      "Total params: 22\n",
      "Trainable params: 22\n",
      "Non-trainable params: 0\n",
      "_________________________________________________________________\n"
     ]
    }
   ],
   "source": [
    "# RNN 구조  One to Many Model 3\n",
    "X = np.array([[[1,2]],[[7,8]],[[13,14]]])\n",
    "Y = np.array([[[3],[4]],[[9],[10]],[[15],[16]]])\n",
    "# X.shape = (Data 수, Sequence Length, Input Dim)\n",
    "print(X.shape)\n",
    "# Y.shape = (Data 수, Output Dim)\n",
    "print(Y.shape)\n",
    "Model3 = tf.keras.Sequential()\n",
    "Model3.add(tf.keras.layers.SimpleRNN(3, input_shape=(X.shape[1],X.shape[2])))\n",
    "Model3.add(tf.keras.layers.RepeatVector(2))\n",
    "Model3.add(tf.keras.layers.TimeDistributed(tf.keras.layers.Dense(1)))\n",
    "Model3.compile(loss='mse', optimizer = tf.keras.optimizers.Adam(lr=0.001))\n",
    "Model3.summary()\n"
   ]
  },
  {
   "cell_type": "markdown",
   "id": "0f7eec68",
   "metadata": {},
   "source": [
    "# Case 4 : One to Many"
   ]
  },
  {
   "cell_type": "code",
   "execution_count": 5,
   "id": "113f175c",
   "metadata": {
    "scrolled": false
   },
   "outputs": [
    {
     "name": "stdout",
     "output_type": "stream",
     "text": [
      "(3, 3, 2)\n",
      "(3, 2, 1)\n",
      "Model: \"sequential_3\"\n",
      "_________________________________________________________________\n",
      "Layer (type)                 Output Shape              Param #   \n",
      "=================================================================\n",
      "simple_rnn_4 (SimpleRNN)     (None, 3, 3)              18        \n",
      "_________________________________________________________________\n",
      "lambda (Lambda)              (None, 2, 3)              0         \n",
      "_________________________________________________________________\n",
      "time_distributed_3 (TimeDist (None, 2, 1)              4         \n",
      "=================================================================\n",
      "Total params: 22\n",
      "Trainable params: 22\n",
      "Non-trainable params: 0\n",
      "_________________________________________________________________\n"
     ]
    }
   ],
   "source": [
    "# RNN 구조  One to Many Model 4\n",
    "X = np.array([[[1,2],[0,0],[0,0]],[[7,8],[0,0],[0,0]],[[13,14],[0,0],[0,0]]])\n",
    "Y = np.array([[[3],[4]],[[9],[10]],[[15],[16]]])\n",
    "# X.shape = (Data 수, Sequence Length, Input Dim)\n",
    "print(X.shape)\n",
    "# Y.shape = (Data 수, Output Dim)\n",
    "print(Y.shape)\n",
    "Model4 = tf.keras.Sequential()\n",
    "Model4.add(tf.keras.layers.SimpleRNN(3, input_shape=(X.shape[1],X.shape[2]), return_sequences = True))\n",
    "Model4.add(tf.keras.layers.Lambda(lambda x: x[:, -Y.shape[1]:, :]))\n",
    "Model4.add(tf.keras.layers.TimeDistributed(tf.keras.layers.Dense(1)))\n",
    "Model4.compile(loss='mse', optimizer = tf.keras.optimizers.Adam(lr=0.001))\n",
    "Model4.summary()\n"
   ]
  },
  {
   "cell_type": "markdown",
   "id": "85b4f23a",
   "metadata": {},
   "source": [
    "# Case 5 : One to Many"
   ]
  },
  {
   "cell_type": "code",
   "execution_count": 6,
   "id": "5bf58af2",
   "metadata": {},
   "outputs": [
    {
     "name": "stdout",
     "output_type": "stream",
     "text": [
      "(3, 3, 2)\n",
      "(3, 2, 1)\n",
      "Model: \"sequential_4\"\n",
      "_________________________________________________________________\n",
      "Layer (type)                 Output Shape              Param #   \n",
      "=================================================================\n",
      "simple_rnn_5 (SimpleRNN)     (None, 3, 3)              18        \n",
      "_________________________________________________________________\n",
      "simple_rnn_6 (SimpleRNN)     (None, 3, 3)              21        \n",
      "_________________________________________________________________\n",
      "lambda_1 (Lambda)            (None, 2, 3)              0         \n",
      "_________________________________________________________________\n",
      "time_distributed_4 (TimeDist (None, 2, 1)              4         \n",
      "=================================================================\n",
      "Total params: 43\n",
      "Trainable params: 43\n",
      "Non-trainable params: 0\n",
      "_________________________________________________________________\n"
     ]
    }
   ],
   "source": [
    "# RNN 구조  One to Many Model 5\n",
    "X = np.array([[[1,2],[0,0],[0,0]],[[7,8],[0,0],[0,0]],[[13,14],[0,0],[0,0]]])\n",
    "Y = np.array([[[3],[4]],[[9],[10]],[[15],[16]]])\n",
    "# X.shape = (Data 수, Sequence Length, Input Dim)\n",
    "print(X.shape)\n",
    "# Y.shape = (Data 수, Output Dim)\n",
    "print(Y.shape)\n",
    "Model5 = tf.keras.Sequential()\n",
    "Model5.add(tf.keras.layers.SimpleRNN(3, input_shape=(X.shape[1],X.shape[2]), return_sequences = True))\n",
    "Model5.add(tf.keras.layers.SimpleRNN(3, return_sequences = True))\n",
    "Model5.add(tf.keras.layers.Lambda(lambda x: x[:, -Y.shape[1]:, :]))\n",
    "Model5.add(tf.keras.layers.TimeDistributed(tf.keras.layers.Dense(1)))\n",
    "Model5.compile(loss='mse', optimizer = tf.keras.optimizers.Adam(lr=0.001))\n",
    "Model5.summary()"
   ]
  },
  {
   "cell_type": "markdown",
   "id": "cadca2e1",
   "metadata": {},
   "source": [
    "# Case 6 : One to Many "
   ]
  },
  {
   "cell_type": "code",
   "execution_count": 7,
   "id": "fdc12ad8",
   "metadata": {
    "scrolled": true
   },
   "outputs": [
    {
     "name": "stdout",
     "output_type": "stream",
     "text": [
      "(3, 4, 2)\n",
      "(3, 2, 1)\n",
      "Model: \"sequential_5\"\n",
      "_________________________________________________________________\n",
      "Layer (type)                 Output Shape              Param #   \n",
      "=================================================================\n",
      "simple_rnn_7 (SimpleRNN)     (None, 4, 3)              18        \n",
      "_________________________________________________________________\n",
      "lambda_2 (Lambda)            (None, 2, 3)              0         \n",
      "_________________________________________________________________\n",
      "time_distributed_5 (TimeDist (None, 2, 1)              4         \n",
      "=================================================================\n",
      "Total params: 22\n",
      "Trainable params: 22\n",
      "Non-trainable params: 0\n",
      "_________________________________________________________________\n"
     ]
    }
   ],
   "source": [
    "# RNN 구조  One to Many Model 6\n",
    "X = np.array([[[1,2],[0,0],[0,0],[0,0]],[[7,8],[0,0],[0,0],[0,0]],[[13,14],[0,0],[0,0],[0,0]]])\n",
    "Y = np.array([[[3],[4]],[[9],[10]],[[15],[16]]])\n",
    "# X.shape = (Data 수, Sequence Length, Input Dim)\n",
    "print(X.shape)\n",
    "# Y.shape = (Data 수, Output Dim)\n",
    "print(Y.shape)\n",
    "Model6 = tf.keras.Sequential()\n",
    "Model6.add(tf.keras.layers.SimpleRNN(3, input_shape=(X.shape[1],X.shape[2]), return_sequences = True))\n",
    "Model6.add(tf.keras.layers.Lambda(lambda x: x[:, -Y.shape[1]:, :]))\n",
    "Model6.add(tf.keras.layers.TimeDistributed(tf.keras.layers.Dense(1)))\n",
    "Model6.compile(loss='mse', optimizer = tf.keras.optimizers.Adam(lr=0.001))\n",
    "Model6.summary()\n"
   ]
  },
  {
   "cell_type": "markdown",
   "id": "80cc67e5",
   "metadata": {},
   "source": [
    "# Case 7 : One to Many"
   ]
  },
  {
   "cell_type": "code",
   "execution_count": 8,
   "id": "97ccf25c",
   "metadata": {},
   "outputs": [
    {
     "name": "stdout",
     "output_type": "stream",
     "text": [
      "(3, 4, 2)\n",
      "(3, 2, 1)\n",
      "Model: \"sequential_6\"\n",
      "_________________________________________________________________\n",
      "Layer (type)                 Output Shape              Param #   \n",
      "=================================================================\n",
      "simple_rnn_8 (SimpleRNN)     (None, 4, 3)              18        \n",
      "_________________________________________________________________\n",
      "simple_rnn_9 (SimpleRNN)     (None, 4, 3)              21        \n",
      "_________________________________________________________________\n",
      "lambda_3 (Lambda)            (None, 2, 3)              0         \n",
      "_________________________________________________________________\n",
      "time_distributed_6 (TimeDist (None, 2, 1)              4         \n",
      "=================================================================\n",
      "Total params: 43\n",
      "Trainable params: 43\n",
      "Non-trainable params: 0\n",
      "_________________________________________________________________\n"
     ]
    }
   ],
   "source": [
    "# RNN 구조  One to many Model 7\n",
    "X = np.array([[[1,2],[0,0],[0,0],[0,0]],[[7,8],[0,0],[0,0],[0,0]],[[13,14],[0,0],[0,0],[0,0]]])\n",
    "Y = np.array([[[3],[4]],[[9],[10]],[[15],[16]]])\n",
    "# X.shape = (Data 수, Sequence Length, Input Dim)\n",
    "print(X.shape)\n",
    "# Y.shape = (Data 수, Output Dim)\n",
    "print(Y.shape)\n",
    "Model7 = tf.keras.Sequential()\n",
    "Model7.add(tf.keras.layers.SimpleRNN(3, input_shape=(X.shape[1],X.shape[2]), return_sequences = True))\n",
    "Model7.add(tf.keras.layers.SimpleRNN(3, return_sequences = True))\n",
    "Model7.add(tf.keras.layers.Lambda(lambda x: x[:, -Y.shape[1]:, :]))\n",
    "Model7.add(tf.keras.layers.TimeDistributed(tf.keras.layers.Dense(1)))\n",
    "Model7.compile(loss='mse', optimizer = tf.keras.optimizers.Adam(lr=0.001))\n",
    "Model7.summary()\n"
   ]
  },
  {
   "cell_type": "markdown",
   "id": "0c22ecbf",
   "metadata": {},
   "source": [
    "# Case 8 : One to Many"
   ]
  },
  {
   "cell_type": "code",
   "execution_count": 9,
   "id": "50ccaf34",
   "metadata": {
    "scrolled": true
   },
   "outputs": [
    {
     "name": "stdout",
     "output_type": "stream",
     "text": [
      "(3, 4, 2)\n",
      "(3, 2, 1)\n",
      "Model: \"sequential_7\"\n",
      "_________________________________________________________________\n",
      "Layer (type)                 Output Shape              Param #   \n",
      "=================================================================\n",
      "simple_rnn_10 (SimpleRNN)    (None, 4, 3)              18        \n",
      "_________________________________________________________________\n",
      "lambda_4 (Lambda)            (None, 2, 3)              0         \n",
      "_________________________________________________________________\n",
      "time_distributed_7 (TimeDist (None, 2, 1)              4         \n",
      "=================================================================\n",
      "Total params: 22\n",
      "Trainable params: 22\n",
      "Non-trainable params: 0\n",
      "_________________________________________________________________\n"
     ]
    }
   ],
   "source": [
    "# RNN 구조  One to Many Model 8\n",
    "X = np.array([[[1,2],[0,0],[0,0],[0,0]],[[7,8],[0,0],[0,0],[0,0]],[[13,14],[0,0],[0,0],[0,0]]])\n",
    "Y = np.array([[[3],[4]],[[9],[10]],[[15],[16]]])\n",
    "# X.shape = (Data 수, Sequence Length, Input Dim)\n",
    "print(X.shape)\n",
    "# Y.shape = (Data 수, Output Dim)\n",
    "print(Y.shape)\n",
    "Model8 = tf.keras.Sequential()\n",
    "Model8.add(tf.keras.layers.SimpleRNN(3, input_shape=(X.shape[1],X.shape[2]), return_sequences = True))\n",
    "Model8.add(tf.keras.layers.Lambda(lambda x: x[:, 0::3, :]))\n",
    "Model8.add(tf.keras.layers.TimeDistributed(tf.keras.layers.Dense(1)))\n",
    "Model8.compile(loss='mse', optimizer = tf.keras.optimizers.Adam(lr=0.001))\n",
    "Model8.summary()\n"
   ]
  },
  {
   "cell_type": "markdown",
   "id": "1e528341",
   "metadata": {},
   "source": [
    "# Case 9 : One to Many"
   ]
  },
  {
   "cell_type": "code",
   "execution_count": 10,
   "id": "4bf51fd8",
   "metadata": {},
   "outputs": [
    {
     "name": "stdout",
     "output_type": "stream",
     "text": [
      "(3, 4, 2)\n",
      "(3, 3, 1)\n",
      "Model: \"sequential_8\"\n",
      "_________________________________________________________________\n",
      "Layer (type)                 Output Shape              Param #   \n",
      "=================================================================\n",
      "simple_rnn_11 (SimpleRNN)    (None, 4, 3)              18        \n",
      "_________________________________________________________________\n",
      "lambda_5 (Lambda)            (None, 3, 3)              0         \n",
      "_________________________________________________________________\n",
      "time_distributed_8 (TimeDist (None, 3, 1)              4         \n",
      "=================================================================\n",
      "Total params: 22\n",
      "Trainable params: 22\n",
      "Non-trainable params: 0\n",
      "_________________________________________________________________\n"
     ]
    }
   ],
   "source": [
    "# RNN 구조  One to Many Model 9\n",
    "X = np.array([[[1,2],[0,0],[0,0],[0,0]],[[5,6],[0,0],[0,0],[0,0]],[[9,10],[0,0],[0,0],[0,0]]])\n",
    "Y = np.array([[[5],[6],[7]],[[9],[10],[11]],[[13],[14],[15]]])\n",
    "# X.shape = (Data 수, Sequence Length, Input Dim)\n",
    "print(X.shape)\n",
    "# Y.shape = (Data 수, Output Dim)\n",
    "print(Y.shape)\n",
    "Model9 = tf.keras.Sequential()\n",
    "Model9.add(tf.keras.layers.SimpleRNN(3, input_shape=(X.shape[1],X.shape[2]), return_sequences = True))\n",
    "Model9.add(tf.keras.layers.Lambda(lambda x: tf.concat([x[:,0:1,:],x[:,2:4,:]],axis = 1)))\n",
    "Model9.add(tf.keras.layers.TimeDistributed(tf.keras.layers.Dense(1)))\n",
    "Model9.compile(loss='mse', optimizer = tf.keras.optimizers.Adam(lr=0.001))\n",
    "Model9.summary()"
   ]
  },
  {
   "cell_type": "markdown",
   "id": "d22914fc",
   "metadata": {},
   "source": [
    "#  Case 10 : One to Many"
   ]
  },
  {
   "cell_type": "code",
   "execution_count": 11,
   "id": "72902d84",
   "metadata": {},
   "outputs": [
    {
     "name": "stdout",
     "output_type": "stream",
     "text": [
      "(3, 4, 2)\n",
      "(3, 2, 1)\n",
      "Model: \"sequential_9\"\n",
      "_________________________________________________________________\n",
      "Layer (type)                 Output Shape              Param #   \n",
      "=================================================================\n",
      "simple_rnn_12 (SimpleRNN)    (None, 4, 3)              18        \n",
      "_________________________________________________________________\n",
      "simple_rnn_13 (SimpleRNN)    (None, 4, 3)              21        \n",
      "_________________________________________________________________\n",
      "lambda_6 (Lambda)            (None, 2, 3)              0         \n",
      "_________________________________________________________________\n",
      "time_distributed_9 (TimeDist (None, 2, 1)              4         \n",
      "=================================================================\n",
      "Total params: 43\n",
      "Trainable params: 43\n",
      "Non-trainable params: 0\n",
      "_________________________________________________________________\n"
     ]
    }
   ],
   "source": [
    "# RNN 구조  One to Many Model 10\n",
    "X = np.array([[[1,2],[0,0],[0,0],[0,0]],[[7,8],[0,0],[0,0],[0,0]],[[13,14],[0,0],[0,0],[0,0]]])\n",
    "Y = np.array([[[3],[4]],[[9],[10]],[[15],[16]]])\n",
    "# X.shape = (Data 수, Sequence Length, Input Dim)\n",
    "print(X.shape)\n",
    "# Y.shape = (Data 수, Output Dim)\n",
    "print(Y.shape)\n",
    "Model10 = tf.keras.Sequential()\n",
    "Model10.add(tf.keras.layers.SimpleRNN(3, input_shape=(X.shape[1],X.shape[2]), return_sequences = True))\n",
    "Model10.add(tf.keras.layers.SimpleRNN(3, return_sequences = True))\n",
    "Model10.add(tf.keras.layers.Lambda(lambda x: x[:, 0::3, :]))\n",
    "Model10.add(tf.keras.layers.TimeDistributed(tf.keras.layers.Dense(1)))\n",
    "Model10.compile(loss='mse', optimizer = tf.keras.optimizers.Adam(lr=0.001))\n",
    "Model10.summary()\n"
   ]
  },
  {
   "cell_type": "markdown",
   "id": "a1d4798b",
   "metadata": {},
   "source": [
    "#  Case 11 : One to Many"
   ]
  },
  {
   "cell_type": "code",
   "execution_count": 12,
   "id": "9b7d6c91",
   "metadata": {},
   "outputs": [
    {
     "name": "stdout",
     "output_type": "stream",
     "text": [
      "(3, 4, 2)\n",
      "(3, 3, 1)\n",
      "Model: \"sequential_10\"\n",
      "_________________________________________________________________\n",
      "Layer (type)                 Output Shape              Param #   \n",
      "=================================================================\n",
      "simple_rnn_14 (SimpleRNN)    (None, 4, 3)              18        \n",
      "_________________________________________________________________\n",
      "simple_rnn_15 (SimpleRNN)    (None, 4, 3)              21        \n",
      "_________________________________________________________________\n",
      "lambda_7 (Lambda)            (None, 3, 3)              0         \n",
      "_________________________________________________________________\n",
      "time_distributed_10 (TimeDis (None, 3, 1)              4         \n",
      "=================================================================\n",
      "Total params: 43\n",
      "Trainable params: 43\n",
      "Non-trainable params: 0\n",
      "_________________________________________________________________\n"
     ]
    }
   ],
   "source": [
    "# RNN 구조  One to Many Model 11\n",
    "X = np.array([[[1,2],[0,0],[0,0],[0,0]],[[5,6],[0,0],[0,0],[0,0]],[[9,10],[0,0],[0,0],[0,0]]])\n",
    "Y = np.array([[[5],[6],[7]],[[9],[10],[11]],[[13],[14],[15]]])\n",
    "# X.shape = (Data 수, Sequence Length, Input Dim)\n",
    "print(X.shape)\n",
    "# Y.shape = (Data 수, Output Dim)\n",
    "print(Y.shape)\n",
    "Model11 = tf.keras.Sequential()\n",
    "Model11.add(tf.keras.layers.SimpleRNN(3, input_shape=(X.shape[1],X.shape[2]), return_sequences = True))\n",
    "Model11.add(tf.keras.layers.SimpleRNN(3, return_sequences = True))\n",
    "Model11.add(tf.keras.layers.Lambda(lambda x: tf.concat([x[:,0:1,:],x[:,2:4,:]],axis = 1)))\n",
    "Model11.add(tf.keras.layers.TimeDistributed(tf.keras.layers.Dense(1)))\n",
    "Model11.compile(loss='mse', optimizer = tf.keras.optimizers.Adam(lr=0.001))\n",
    "Model11.summary()"
   ]
  }
 ],
 "metadata": {
  "kernelspec": {
   "display_name": "Python 3 (ipykernel)",
   "language": "python",
   "name": "python3"
  },
  "language_info": {
   "codemirror_mode": {
    "name": "ipython",
    "version": 3
   },
   "file_extension": ".py",
   "mimetype": "text/x-python",
   "name": "python",
   "nbconvert_exporter": "python",
   "pygments_lexer": "ipython3",
   "version": "3.9.13"
  }
 },
 "nbformat": 4,
 "nbformat_minor": 5
}
