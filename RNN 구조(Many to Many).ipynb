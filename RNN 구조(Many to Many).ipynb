{
 "cells": [
  {
   "cell_type": "code",
   "execution_count": 1,
   "id": "d5cdafdb",
   "metadata": {},
   "outputs": [],
   "source": [
    "import tensorflow as tf\n",
    "from tensorflow.keras.layers import SimpleRNN\n",
    "import numpy as np"
   ]
  },
  {
   "cell_type": "markdown",
   "id": "7113248c",
   "metadata": {},
   "source": [
    "# Case1 : Many to Many"
   ]
  },
  {
   "cell_type": "code",
   "execution_count": 2,
   "id": "5520f670",
   "metadata": {},
   "outputs": [
    {
     "name": "stdout",
     "output_type": "stream",
     "text": [
      "(5, 2, 3)\n",
      "(5, 2, 1)\n",
      "Model: \"sequential\"\n",
      "_________________________________________________________________\n",
      "Layer (type)                 Output Shape              Param #   \n",
      "=================================================================\n",
      "simple_rnn (SimpleRNN)       (None, 2, 2)              12        \n",
      "_________________________________________________________________\n",
      "time_distributed (TimeDistri (None, 2, 1)              3         \n",
      "=================================================================\n",
      "Total params: 15\n",
      "Trainable params: 15\n",
      "Non-trainable params: 0\n",
      "_________________________________________________________________\n"
     ]
    }
   ],
   "source": [
    "# RNN 구조 Many to Many Model 1\n",
    "X = np.array([[[1,2,3],[2,3,4]],[[3,4,5],[4,5,6]],[[5,6,7],[6,7,8]],\n",
    "                    [[7,8,9],[8,9,10]],[[9,10,11],[10,11,12]]])\n",
    "Y = np.array([[[4],[5]],[[6],[7]],[[8],[9]],[[10],[11]],[[12],[13]]])\n",
    "# X.shape = (Data 수, Sequence Length, Input Dim)\n",
    "print(X.shape)\n",
    "# Y.shape = (Data 수, Output Dim)\n",
    "print(Y.shape)\n",
    "Model1 = tf.keras.Sequential()\n",
    "Model1.add(tf.keras.layers.SimpleRNN(2, input_shape = (X.shape[1],X.shape[2]), return_sequences = True))\n",
    "Model1.add(tf.keras.layers.TimeDistributed(tf.keras.layers.Dense(units=Y.shape[2])))\n",
    "Model1.compile(loss = 'mse', optimizer = tf.keras.optimizers.Adam(lr=0.001))\n",
    "Model1.summary()"
   ]
  },
  {
   "cell_type": "markdown",
   "id": "72c50106",
   "metadata": {},
   "source": [
    "# Case2 : Many to Many "
   ]
  },
  {
   "cell_type": "code",
   "execution_count": 3,
   "id": "3fc7877b",
   "metadata": {},
   "outputs": [
    {
     "name": "stdout",
     "output_type": "stream",
     "text": [
      "(5, 2, 3)\n",
      "(5, 2, 1)\n",
      "Model: \"sequential_1\"\n",
      "_________________________________________________________________\n",
      "Layer (type)                 Output Shape              Param #   \n",
      "=================================================================\n",
      "simple_rnn_1 (SimpleRNN)     (None, 2, 2)              12        \n",
      "_________________________________________________________________\n",
      "simple_rnn_2 (SimpleRNN)     (None, 2, 2)              10        \n",
      "_________________________________________________________________\n",
      "time_distributed_1 (TimeDist (None, 2, 1)              3         \n",
      "=================================================================\n",
      "Total params: 25\n",
      "Trainable params: 25\n",
      "Non-trainable params: 0\n",
      "_________________________________________________________________\n"
     ]
    }
   ],
   "source": [
    "# RNN 구조 Many to Many Model 2\n",
    "X = np.array([[[1,2,3],[2,3,4]],[[3,4,5],[4,5,6]],[[5,6,7],[6,7,8]],\n",
    "                    [[7,8,9],[8,9,10]],[[9,10,11],[10,11,12]]])\n",
    "Y = np.array([[[4],[5]],[[6],[7]],[[8],[9]],[[10],[11]],[[12],[13]]])\n",
    "# X.shape = (Data 수, Sequence Length, Input Dim)\n",
    "print(X.shape)\n",
    "# Y.shape = (Data 수, Output Dim)\n",
    "print(Y.shape)\n",
    "Model2 = tf.keras.Sequential()\n",
    "Model2.add(tf.keras.layers.SimpleRNN(2, input_shape = (X.shape[1],X.shape[2]), return_sequences = True))\n",
    "Model2.add(tf.keras.layers.SimpleRNN(2, return_sequences = True))\n",
    "Model2.add(tf.keras.layers.TimeDistributed(tf.keras.layers.Dense(units=Y.shape[2])))\n",
    "Model2.compile(loss = 'mse', optimizer = tf.keras.optimizers.Adam(lr=0.001))\n",
    "Model2.summary()"
   ]
  },
  {
   "cell_type": "markdown",
   "id": "fee68902",
   "metadata": {},
   "source": [
    "# Case3 : Many to Many"
   ]
  },
  {
   "cell_type": "code",
   "execution_count": 4,
   "id": "0103bfeb",
   "metadata": {},
   "outputs": [
    {
     "name": "stdout",
     "output_type": "stream",
     "text": [
      "(3, 3, 2)\n",
      "(3, 2, 1)\n",
      "Model: \"sequential_2\"\n",
      "_________________________________________________________________\n",
      "Layer (type)                 Output Shape              Param #   \n",
      "=================================================================\n",
      "simple_rnn_3 (SimpleRNN)     (None, 3, 3)              18        \n",
      "_________________________________________________________________\n",
      "lambda (Lambda)              (None, 2, 3)              0         \n",
      "_________________________________________________________________\n",
      "time_distributed_2 (TimeDist (None, 2, 1)              4         \n",
      "=================================================================\n",
      "Total params: 22\n",
      "Trainable params: 22\n",
      "Non-trainable params: 0\n",
      "_________________________________________________________________\n"
     ]
    }
   ],
   "source": [
    "# RNN 구조 Many to Many Model 3\n",
    "X = np.array([[[1,2],[3,4],[0,0]],[[5,6],[7,8],[0,0]],[[9,10],[11,12],[0,0]]])\n",
    "Y = np.array([[[5],[6]],[[9],[10]],[[13],[14]]])\n",
    "# X.shape = (Data 수, Sequence Length, Input Dim)\n",
    "print(X.shape)\n",
    "# Y.shape = (Data 수, Output Dim)\n",
    "print(Y.shape)\n",
    "Model3 = tf.keras.Sequential()\n",
    "Model3.add(tf.keras.layers.SimpleRNN(3, input_shape = (X.shape[1],X.shape[2]), return_sequences = True))\n",
    "Model3.add(tf.keras.layers.Lambda(lambda x: x[:, -Y.shape[1]:, :]))\n",
    "Model3.add(tf.keras.layers.TimeDistributed(tf.keras.layers.Dense(1)))\n",
    "Model3.compile(loss='mse', optimizer = tf.keras.optimizers.Adam(lr=0.001))\n",
    "Model3.summary()"
   ]
  },
  {
   "cell_type": "markdown",
   "id": "c212812f",
   "metadata": {},
   "source": [
    "# Case4 : Many to Many"
   ]
  },
  {
   "cell_type": "code",
   "execution_count": 5,
   "id": "ef1ac14f",
   "metadata": {},
   "outputs": [
    {
     "name": "stdout",
     "output_type": "stream",
     "text": [
      "(3, 3, 2)\n",
      "(3, 2, 1)\n",
      "Model: \"sequential_3\"\n",
      "_________________________________________________________________\n",
      "Layer (type)                 Output Shape              Param #   \n",
      "=================================================================\n",
      "simple_rnn_4 (SimpleRNN)     (None, 3, 3)              18        \n",
      "_________________________________________________________________\n",
      "lambda_1 (Lambda)            (None, 2, 3)              0         \n",
      "_________________________________________________________________\n",
      "time_distributed_3 (TimeDist (None, 2, 1)              4         \n",
      "=================================================================\n",
      "Total params: 22\n",
      "Trainable params: 22\n",
      "Non-trainable params: 0\n",
      "_________________________________________________________________\n"
     ]
    }
   ],
   "source": [
    "# RNN 구조 Many to Many Model 4\n",
    "X = np.array([[[1,2],[3,4],[5,6]],[[5,6],[7,8],[9,10]],[[9,10],[11,12],[13,14]]])\n",
    "Y = np.array([[[5],[6]],[[9],[10]],[[13],[14]]])\n",
    "# X.shape = (Data 수, Sequence Length, Input Dim)\n",
    "print(X.shape)\n",
    "# Y.shape = (Data 수, Output Dim)\n",
    "print(Y.shape)\n",
    "Model4 = tf.keras.Sequential()\n",
    "Model4.add(tf.keras.layers.SimpleRNN(3, input_shape = (X.shape[1],X.shape[2]), return_sequences = True))\n",
    "Model4.add(tf.keras.layers.Lambda(lambda x: x[:, -Y.shape[1]:, :]))\n",
    "Model4.add(tf.keras.layers.TimeDistributed(tf.keras.layers.Dense(1)))\n",
    "Model4.compile(loss='mse', optimizer = tf.keras.optimizers.Adam(lr=0.001))\n",
    "Model4.summary()"
   ]
  },
  {
   "cell_type": "markdown",
   "id": "1b654f57",
   "metadata": {},
   "source": [
    "# Case5 : Many to Many"
   ]
  },
  {
   "cell_type": "code",
   "execution_count": 6,
   "id": "53f08451",
   "metadata": {},
   "outputs": [
    {
     "name": "stdout",
     "output_type": "stream",
     "text": [
      "(3, 3, 2)\n",
      "(3, 2, 1)\n",
      "Model: \"sequential_4\"\n",
      "_________________________________________________________________\n",
      "Layer (type)                 Output Shape              Param #   \n",
      "=================================================================\n",
      "simple_rnn_5 (SimpleRNN)     (None, 3, 3)              18        \n",
      "_________________________________________________________________\n",
      "simple_rnn_6 (SimpleRNN)     (None, 3, 3)              21        \n",
      "_________________________________________________________________\n",
      "lambda_2 (Lambda)            (None, 2, 3)              0         \n",
      "_________________________________________________________________\n",
      "time_distributed_4 (TimeDist (None, 2, 1)              4         \n",
      "=================================================================\n",
      "Total params: 43\n",
      "Trainable params: 43\n",
      "Non-trainable params: 0\n",
      "_________________________________________________________________\n"
     ]
    }
   ],
   "source": [
    "# RNN 구조 Many to Many Model 5\n",
    "X = np.array([[[1,2],[3,4],[5,6]],[[5,6],[7,8],[9,10]],[[9,10],[11,12],[13,14]]])\n",
    "Y = np.array([[[5],[6]],[[9],[10]],[[13],[14]]])\n",
    "# X.shape = (Data 수, Sequence Length, Input Dim)\n",
    "print(X.shape)\n",
    "# Y.shape = (Data 수, Output Dim)\n",
    "print(Y.shape)\n",
    "Model5 = tf.keras.Sequential()\n",
    "Model5.add(tf.keras.layers.SimpleRNN(3, input_shape = (X.shape[1],X.shape[2]), return_sequences = True))\n",
    "Model5.add(tf.keras.layers.SimpleRNN(3, return_sequences = True))\n",
    "Model5.add(tf.keras.layers.Lambda(lambda x: x[:, -Y.shape[1]:, :]))\n",
    "Model5.add(tf.keras.layers.TimeDistributed(tf.keras.layers.Dense(1)))\n",
    "Model5.compile(loss='mse', optimizer = tf.keras.optimizers.Adam(lr=0.001))\n",
    "Model5.summary()"
   ]
  },
  {
   "cell_type": "markdown",
   "id": "3e7c0636",
   "metadata": {},
   "source": [
    "# Case6 : Many to Many"
   ]
  },
  {
   "cell_type": "code",
   "execution_count": 7,
   "id": "dbea0782",
   "metadata": {},
   "outputs": [
    {
     "name": "stdout",
     "output_type": "stream",
     "text": [
      "(3, 3, 2)\n",
      "(3, 2, 1)\n",
      "Model: \"sequential_5\"\n",
      "_________________________________________________________________\n",
      "Layer (type)                 Output Shape              Param #   \n",
      "=================================================================\n",
      "simple_rnn_7 (SimpleRNN)     (None, 3, 3)              18        \n",
      "_________________________________________________________________\n",
      "simple_rnn_8 (SimpleRNN)     (None, 3, 3)              21        \n",
      "_________________________________________________________________\n",
      "lambda_3 (Lambda)            (None, 2, 3)              0         \n",
      "_________________________________________________________________\n",
      "time_distributed_5 (TimeDist (None, 2, 1)              4         \n",
      "=================================================================\n",
      "Total params: 43\n",
      "Trainable params: 43\n",
      "Non-trainable params: 0\n",
      "_________________________________________________________________\n"
     ]
    }
   ],
   "source": [
    "# RNN 구조 Many to Many Model 6\n",
    "X = np.array([[[1,2],[3,4],[0,0]],[[5,6],[7,8],[0,0]],[[9,10],[11,12],[0,0]]])\n",
    "Y = np.array([[[5],[6]],[[9],[10]],[[13],[14]]])\n",
    "# X.shape = (Data 수, Sequence Length, Input Dim)\n",
    "print(X.shape)\n",
    "# Y.shape = (Data 수, Output Dim)\n",
    "print(Y.shape)\n",
    "Model6 = tf.keras.Sequential()\n",
    "Model6.add(tf.keras.layers.SimpleRNN(3, input_shape = (X.shape[1],X.shape[2]), return_sequences = True))\n",
    "Model6.add(tf.keras.layers.SimpleRNN(3, return_sequences = True))\n",
    "Model6.add(tf.keras.layers.Lambda(lambda x: x[:, -Y.shape[1]:, :]))\n",
    "Model6.add(tf.keras.layers.TimeDistributed(tf.keras.layers.Dense(1)))\n",
    "Model6.compile(loss='mse', optimizer = tf.keras.optimizers.Adam(lr=0.001))\n",
    "Model6.summary()"
   ]
  },
  {
   "cell_type": "markdown",
   "id": "40289e13",
   "metadata": {},
   "source": [
    "# Case7 : Many to Many"
   ]
  },
  {
   "cell_type": "code",
   "execution_count": 8,
   "id": "f5518c8c",
   "metadata": {},
   "outputs": [
    {
     "name": "stdout",
     "output_type": "stream",
     "text": [
      "(3, 4, 2)\n",
      "(3, 3, 1)\n",
      "Model: \"sequential_6\"\n",
      "_________________________________________________________________\n",
      "Layer (type)                 Output Shape              Param #   \n",
      "=================================================================\n",
      "simple_rnn_9 (SimpleRNN)     (None, 4, 3)              18        \n",
      "_________________________________________________________________\n",
      "lambda_4 (Lambda)            (None, 3, 3)              0         \n",
      "_________________________________________________________________\n",
      "time_distributed_6 (TimeDist (None, 3, 1)              4         \n",
      "=================================================================\n",
      "Total params: 22\n",
      "Trainable params: 22\n",
      "Non-trainable params: 0\n",
      "_________________________________________________________________\n"
     ]
    }
   ],
   "source": [
    "# RNN 구조 Many to Many Model 7\n",
    "X = np.array([[[1,2],[3,4],[0,0],[0,0]],[[5,6],[7,8],[0,0],[0,0]],[[9,10],[11,12],[0,0],[0,0]]])\n",
    "Y = np.array([[[5],[6],[7]],[[9],[10],[11]],[[13],[14],[15]]])\n",
    "# X.shape = (Data 수, Sequence Length, Input Dim)\n",
    "print(X.shape)\n",
    "# Y.shape = (Data 수, Output Dim)\n",
    "print(Y.shape)\n",
    "Model7 = tf.keras.Sequential()\n",
    "Model7.add(tf.keras.layers.SimpleRNN(3, input_shape = (X.shape[1],X.shape[2]), return_sequences = True))\n",
    "Model7.add(tf.keras.layers.Lambda(lambda x: x[:, -Y.shape[1]:, :]))\n",
    "Model7.add(tf.keras.layers.TimeDistributed(tf.keras.layers.Dense(1)))\n",
    "Model7.compile(loss='mse', optimizer = tf.keras.optimizers.Adam(lr=0.001))\n",
    "Model7.summary()"
   ]
  },
  {
   "cell_type": "markdown",
   "id": "dac9ef66",
   "metadata": {},
   "source": [
    "# Case8 : Many to Many"
   ]
  },
  {
   "cell_type": "code",
   "execution_count": 9,
   "id": "f3867eb0",
   "metadata": {},
   "outputs": [
    {
     "name": "stdout",
     "output_type": "stream",
     "text": [
      "(3, 4, 2)\n",
      "(3, 3, 1)\n",
      "Model: \"sequential_7\"\n",
      "_________________________________________________________________\n",
      "Layer (type)                 Output Shape              Param #   \n",
      "=================================================================\n",
      "simple_rnn_10 (SimpleRNN)    (None, 4, 3)              18        \n",
      "_________________________________________________________________\n",
      "simple_rnn_11 (SimpleRNN)    (None, 4, 3)              21        \n",
      "_________________________________________________________________\n",
      "lambda_5 (Lambda)            (None, 3, 3)              0         \n",
      "_________________________________________________________________\n",
      "time_distributed_7 (TimeDist (None, 3, 1)              4         \n",
      "=================================================================\n",
      "Total params: 43\n",
      "Trainable params: 43\n",
      "Non-trainable params: 0\n",
      "_________________________________________________________________\n"
     ]
    }
   ],
   "source": [
    "# RNN 구조 Many to Many Model 8\n",
    "X = np.array([[[1,2],[3,4],[0,0],[0,0]],[[5,6],[7,8],[0,0],[0,0]],[[9,10],[11,12],[0,0],[0,0]]])\n",
    "Y = np.array([[[5],[6],[7]],[[9],[10],[11]],[[13],[14],[15]]])\n",
    "# X.shape = (Data 수, Sequence Length, Input Dim)\n",
    "print(X.shape)\n",
    "# Y.shape = (Data 수, Output Dim)\n",
    "print(Y.shape)\n",
    "Model8 = tf.keras.Sequential()\n",
    "Model8.add(tf.keras.layers.SimpleRNN(3, input_shape = (X.shape[1],X.shape[2]), return_sequences = True))\n",
    "Model8.add(tf.keras.layers.SimpleRNN(3, return_sequences = True))\n",
    "Model8.add(tf.keras.layers.Lambda(lambda x: x[:, -Y.shape[1]:, :]))\n",
    "Model8.add(tf.keras.layers.TimeDistributed(tf.keras.layers.Dense(1)))\n",
    "Model8.compile(loss='mse', optimizer = tf.keras.optimizers.Adam(lr=0.001))\n",
    "Model8.summary()"
   ]
  },
  {
   "cell_type": "markdown",
   "id": "a9d85441",
   "metadata": {},
   "source": [
    "# Case9 : Many to Many"
   ]
  },
  {
   "cell_type": "code",
   "execution_count": 10,
   "id": "28d6c2e5",
   "metadata": {},
   "outputs": [
    {
     "name": "stdout",
     "output_type": "stream",
     "text": [
      "(3, 4, 2)\n",
      "(3, 2, 1)\n",
      "Model: \"sequential_8\"\n",
      "_________________________________________________________________\n",
      "Layer (type)                 Output Shape              Param #   \n",
      "=================================================================\n",
      "simple_rnn_12 (SimpleRNN)    (None, 4, 3)              18        \n",
      "_________________________________________________________________\n",
      "lambda_6 (Lambda)            (None, 2, 3)              0         \n",
      "_________________________________________________________________\n",
      "time_distributed_8 (TimeDist (None, 2, 1)              4         \n",
      "=================================================================\n",
      "Total params: 22\n",
      "Trainable params: 22\n",
      "Non-trainable params: 0\n",
      "_________________________________________________________________\n"
     ]
    }
   ],
   "source": [
    "# RNN 구조 Many to Many Model 9\n",
    "X = np.array([[[1,2],[3,4],[0,0],[0,0]],[[5,6],[7,8],[0,0],[0,0]],[[9,10],[11,12],[0,0],[0,0]]])\n",
    "Y = np.array([[[5],[6]],[[9],[10]],[[13],[14]]])\n",
    "# X.shape = (Data 수, Sequence Length, Input Dim)\n",
    "print(X.shape)\n",
    "# Y.shape = (Data 수, Output Dim)\n",
    "print(Y.shape)\n",
    "Model9 = tf.keras.Sequential()\n",
    "Model9.add(tf.keras.layers.SimpleRNN(3, input_shape = (X.shape[1],X.shape[2]), return_sequences = True))\n",
    "Model9.add(tf.keras.layers.Lambda(lambda x: x[:, -Y.shape[1]:, :]))\n",
    "Model9.add(tf.keras.layers.TimeDistributed(tf.keras.layers.Dense(1)))\n",
    "Model9.compile(loss='mse', optimizer = tf.keras.optimizers.Adam(lr=0.001))\n",
    "Model9.summary()"
   ]
  },
  {
   "cell_type": "markdown",
   "id": "b76ab117",
   "metadata": {},
   "source": [
    "# Case10 : Many to Many"
   ]
  },
  {
   "cell_type": "code",
   "execution_count": 11,
   "id": "7e8a4876",
   "metadata": {},
   "outputs": [
    {
     "name": "stdout",
     "output_type": "stream",
     "text": [
      "(3, 4, 2)\n",
      "(3, 2, 1)\n",
      "Model: \"sequential_9\"\n",
      "_________________________________________________________________\n",
      "Layer (type)                 Output Shape              Param #   \n",
      "=================================================================\n",
      "simple_rnn_13 (SimpleRNN)    (None, 4, 3)              18        \n",
      "_________________________________________________________________\n",
      "simple_rnn_14 (SimpleRNN)    (None, 4, 3)              21        \n",
      "_________________________________________________________________\n",
      "lambda_7 (Lambda)            (None, 2, 3)              0         \n",
      "_________________________________________________________________\n",
      "time_distributed_9 (TimeDist (None, 2, 1)              4         \n",
      "=================================================================\n",
      "Total params: 43\n",
      "Trainable params: 43\n",
      "Non-trainable params: 0\n",
      "_________________________________________________________________\n"
     ]
    }
   ],
   "source": [
    "# RNN 구조 Many to Many Model 10\n",
    "X = np.array([[[1,2],[3,4],[0,0],[0,0]],[[5,6],[7,8],[0,0],[0,0]],[[9,10],[11,12],[0,0],[0,0]]])\n",
    "Y = np.array([[[5],[6]],[[9],[10]],[[13],[14]]])\n",
    "# X.shape = (Data 수, Sequence Length, Input Dim)\n",
    "print(X.shape)\n",
    "# Y.shape = (Data 수, Output Dim)\n",
    "print(Y.shape)\n",
    "Model10 = tf.keras.Sequential()\n",
    "Model10.add(tf.keras.layers.SimpleRNN(3, input_shape = (X.shape[1],X.shape[2]), return_sequences = True))\n",
    "Model10.add(tf.keras.layers.SimpleRNN(3, return_sequences = True))\n",
    "Model10.add(tf.keras.layers.Lambda(lambda x: x[:, -Y.shape[1]:, :]))\n",
    "Model10.add(tf.keras.layers.TimeDistributed(tf.keras.layers.Dense(1)))\n",
    "Model10.compile(loss='mse', optimizer = tf.keras.optimizers.Adam(lr=0.001))\n",
    "Model10.summary()"
   ]
  },
  {
   "cell_type": "markdown",
   "id": "4a45944c",
   "metadata": {},
   "source": [
    "# Case11 : Many to Many"
   ]
  },
  {
   "cell_type": "code",
   "execution_count": 12,
   "id": "a15c8491",
   "metadata": {},
   "outputs": [
    {
     "name": "stdout",
     "output_type": "stream",
     "text": [
      "(3, 4, 2)\n",
      "(3, 2, 1)\n",
      "Model: \"sequential_10\"\n",
      "_________________________________________________________________\n",
      "Layer (type)                 Output Shape              Param #   \n",
      "=================================================================\n",
      "simple_rnn_15 (SimpleRNN)    (None, 4, 3)              18        \n",
      "_________________________________________________________________\n",
      "lambda_8 (Lambda)            (None, 2, 3)              0         \n",
      "_________________________________________________________________\n",
      "time_distributed_10 (TimeDis (None, 2, 1)              4         \n",
      "=================================================================\n",
      "Total params: 22\n",
      "Trainable params: 22\n",
      "Non-trainable params: 0\n",
      "_________________________________________________________________\n"
     ]
    }
   ],
   "source": [
    "# RNN 구조 Many to Many Model 11\n",
    "X = np.array([[[1,2],[3,4],[0,0],[0,0]],[[5,6],[7,8],[0,0],[0,0]],[[9,10],[11,12],[0,0],[0,0]]])\n",
    "Y = np.array([[[5],[6]],[[9],[10]],[[13],[14]]])\n",
    "# X.shape = (Data 수, Sequence Length, Input Dim)\n",
    "print(X.shape)\n",
    "# Y.shape = (Data 수, Output Dim)\n",
    "print(Y.shape)\n",
    "\n",
    "Model11= tf.keras.Sequential()\n",
    "Model11.add(tf.keras.layers.SimpleRNN(3, input_shape = (X.shape[1],X.shape[2]), return_sequences = True))\n",
    "Model11.add(tf.keras.layers.Lambda(lambda x: x[:,0::3,:]))\n",
    "Model11.add(tf.keras.layers.TimeDistributed(tf.keras.layers.Dense(1)))\n",
    "Model11.compile(loss='mse', optimizer = tf.keras.optimizers.Adam(lr=0.001))\n",
    "Model11.summary()"
   ]
  },
  {
   "cell_type": "markdown",
   "id": "5f07864a",
   "metadata": {},
   "source": [
    "# Case12 : Many to Many"
   ]
  },
  {
   "cell_type": "code",
   "execution_count": 13,
   "id": "4597c4eb",
   "metadata": {
    "scrolled": true
   },
   "outputs": [
    {
     "name": "stdout",
     "output_type": "stream",
     "text": [
      "(3, 4, 2)\n",
      "(3, 3, 1)\n",
      "Model: \"sequential_11\"\n",
      "_________________________________________________________________\n",
      "Layer (type)                 Output Shape              Param #   \n",
      "=================================================================\n",
      "simple_rnn_16 (SimpleRNN)    (None, 4, 3)              18        \n",
      "_________________________________________________________________\n",
      "lambda_9 (Lambda)            (None, 3, 3)              0         \n",
      "_________________________________________________________________\n",
      "time_distributed_11 (TimeDis (None, 3, 1)              4         \n",
      "=================================================================\n",
      "Total params: 22\n",
      "Trainable params: 22\n",
      "Non-trainable params: 0\n",
      "_________________________________________________________________\n"
     ]
    }
   ],
   "source": [
    "# RNN 구조 Many to Many Model 12\n",
    "X = np.array([[[1,2],[3,4],[0,0],[0,0]],[[5,6],[7,8],[0,0],[0,0]],[[9,10],[11,12],[0,0],[0,0]]])\n",
    "Y = np.array([[[5],[6],[7]],[[9],[10],[11]],[[13],[14],[15]]])\n",
    "# X.shape = (Data 수, Sequence Length, Input Dim)\n",
    "print(X.shape)\n",
    "# Y.shape = (Data 수, Output Dim)\n",
    "print(Y.shape)\n",
    "Model12 = tf.keras.Sequential()\n",
    "Model12.add(tf.keras.layers.SimpleRNN(3, input_shape = (X.shape[1],X.shape[2]), return_sequences = True))\n",
    "Model12.add(tf.keras.layers.Lambda(lambda x: tf.concat([x[:,0:1,:],x[:,2:4,:]],axis = 1)))\n",
    "Model12.add(tf.keras.layers.TimeDistributed(tf.keras.layers.Dense(1)))\n",
    "Model12.compile(loss='mse', optimizer = tf.keras.optimizers.Adam(lr=0.001))\n",
    "Model12.summary()"
   ]
  },
  {
   "cell_type": "markdown",
   "id": "ec1bf41c",
   "metadata": {},
   "source": [
    "# Case13 : Many to Many"
   ]
  },
  {
   "cell_type": "code",
   "execution_count": 14,
   "id": "77ee08bc",
   "metadata": {},
   "outputs": [
    {
     "name": "stdout",
     "output_type": "stream",
     "text": [
      "(3, 4, 2)\n",
      "(3, 2, 1)\n",
      "Model: \"sequential_12\"\n",
      "_________________________________________________________________\n",
      "Layer (type)                 Output Shape              Param #   \n",
      "=================================================================\n",
      "simple_rnn_17 (SimpleRNN)    (None, 4, 3)              18        \n",
      "_________________________________________________________________\n",
      "simple_rnn_18 (SimpleRNN)    (None, 4, 3)              21        \n",
      "_________________________________________________________________\n",
      "lambda_10 (Lambda)           (None, 2, 3)              0         \n",
      "_________________________________________________________________\n",
      "time_distributed_12 (TimeDis (None, 2, 1)              4         \n",
      "=================================================================\n",
      "Total params: 43\n",
      "Trainable params: 43\n",
      "Non-trainable params: 0\n",
      "_________________________________________________________________\n"
     ]
    }
   ],
   "source": [
    "# RNN 구조 Many to Many Model 13\n",
    "X = np.array([[[1,2],[3,4],[0,0],[0,0]],[[5,6],[7,8],[0,0],[0,0]],[[9,10],[11,12],[0,0],[0,0]]])\n",
    "Y = np.array([[[5],[6]],[[9],[10]],[[13],[14]]])\n",
    "# X.shape = (Data 수, Sequence Length, Input Dim)\n",
    "print(X.shape)\n",
    "# Y.shape = (Data 수, Output Dim)\n",
    "print(Y.shape)\n",
    "\n",
    "Model13 = tf.keras.Sequential()\n",
    "Model13.add(tf.keras.layers.SimpleRNN(3, input_shape = (X.shape[1],X.shape[2]), return_sequences = True))\n",
    "Model13.add(tf.keras.layers.SimpleRNN(3, return_sequences = True))\n",
    "Model13.add(tf.keras.layers.Lambda(lambda x: x[:,0::3,:]))\n",
    "Model13.add(tf.keras.layers.TimeDistributed(tf.keras.layers.Dense(1)))\n",
    "Model13.compile(loss='mse', optimizer = tf.keras.optimizers.Adam(lr=0.001))\n",
    "Model13.summary()"
   ]
  },
  {
   "cell_type": "markdown",
   "id": "2bf74440",
   "metadata": {},
   "source": [
    "# Case14 : Many to Many"
   ]
  },
  {
   "cell_type": "code",
   "execution_count": 15,
   "id": "a4f7db61",
   "metadata": {},
   "outputs": [
    {
     "name": "stdout",
     "output_type": "stream",
     "text": [
      "(3, 4, 2)\n",
      "(3, 3, 1)\n",
      "Model: \"sequential_13\"\n",
      "_________________________________________________________________\n",
      "Layer (type)                 Output Shape              Param #   \n",
      "=================================================================\n",
      "simple_rnn_19 (SimpleRNN)    (None, 4, 3)              18        \n",
      "_________________________________________________________________\n",
      "simple_rnn_20 (SimpleRNN)    (None, 4, 3)              21        \n",
      "_________________________________________________________________\n",
      "lambda_11 (Lambda)           (None, 3, 3)              0         \n",
      "_________________________________________________________________\n",
      "time_distributed_13 (TimeDis (None, 3, 1)              4         \n",
      "=================================================================\n",
      "Total params: 43\n",
      "Trainable params: 43\n",
      "Non-trainable params: 0\n",
      "_________________________________________________________________\n"
     ]
    }
   ],
   "source": [
    "# RNN 구조 Many to Many Model 14\n",
    "X = np.array([[[1,2],[3,4],[0,0],[0,0]],[[5,6],[7,8],[0,0],[0,0]],[[9,10],[11,12],[0,0],[0,0]]])\n",
    "Y = np.array([[[5],[6],[7]],[[9],[10],[11]],[[13],[14],[15]]])\n",
    "# X.shape = (Data 수, Sequence Length, Input Dim)\n",
    "print(X.shape)\n",
    "# Y.shape = (Data 수, Output Dim)\n",
    "print(Y.shape)\n",
    "Model14 = tf.keras.Sequential()\n",
    "Model14.add(tf.keras.layers.SimpleRNN(3, input_shape = (X.shape[1],X.shape[2]), return_sequences = True))\n",
    "Model14.add(tf.keras.layers.SimpleRNN(3, return_sequences = True))\n",
    "Model14.add(tf.keras.layers.Lambda(lambda x: tf.concat([x[:,0:1,:],x[:,2:4,:]],axis = 1)))\n",
    "Model14.add(tf.keras.layers.TimeDistributed(tf.keras.layers.Dense(1)))\n",
    "Model14.compile(loss='mse', optimizer = tf.keras.optimizers.Adam(lr=0.001))\n",
    "Model14.summary()"
   ]
  }
 ],
 "metadata": {
  "kernelspec": {
   "display_name": "Python 3 (ipykernel)",
   "language": "python",
   "name": "python3"
  },
  "language_info": {
   "codemirror_mode": {
    "name": "ipython",
    "version": 3
   },
   "file_extension": ".py",
   "mimetype": "text/x-python",
   "name": "python",
   "nbconvert_exporter": "python",
   "pygments_lexer": "ipython3",
   "version": "3.9.13"
  }
 },
 "nbformat": 4,
 "nbformat_minor": 5
}
