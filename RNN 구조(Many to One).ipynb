{
 "cells": [
  {
   "cell_type": "code",
   "execution_count": 1,
   "id": "a5d7616a",
   "metadata": {},
   "outputs": [],
   "source": [
    "import datetime\n",
    "import numpy as np\n",
    "import pandas as pd\n",
    "import os\n",
    "import tensorflow as tf\n",
    "from tensorflow.keras.layers import Bidirectional, TimeDistributed, LSTM, Input, Dense, GRU,Dropout\n",
    "from tensorflow.keras.models import Model"
   ]
  },
  {
   "cell_type": "markdown",
   "id": "9dc82193",
   "metadata": {},
   "source": [
    "# Case 1 "
   ]
  },
  {
   "cell_type": "code",
   "execution_count": 2,
   "id": "8ff15636",
   "metadata": {},
   "outputs": [
    {
     "name": "stdout",
     "output_type": "stream",
     "text": [
      "(6, 2, 3)\n",
      "(6, 1)\n",
      "Model: \"sequential\"\n",
      "_________________________________________________________________\n",
      "Layer (type)                 Output Shape              Param #   \n",
      "=================================================================\n",
      "simple_rnn (SimpleRNN)       (None, 2)                 12        \n",
      "_________________________________________________________________\n",
      "dense (Dense)                (None, 1)                 3         \n",
      "=================================================================\n",
      "Total params: 15\n",
      "Trainable params: 15\n",
      "Non-trainable params: 0\n",
      "_________________________________________________________________\n"
     ]
    }
   ],
   "source": [
    "# RNN 구조 Many to One Model 1\n",
    "X = np.array([[[1,2,3],[7,8,9]],[[2,3,4],[8,9,10]],[[3,4,5],[9,10,11]],\n",
    "              [[4,5,6],[10,11,12]],[[5,6,7],[11,12,13]],[[6,7,8],[12,13,14]]])\n",
    "Y = np.array([[6],[7],[8],[9],[10],[11]])\n",
    "# X.shape = (Data 수, Sequence Length, Input Dim)\n",
    "print(X.shape)\n",
    "# Y.shape = (Data 수, Output Dim)\n",
    "print(Y.shape)\n",
    "Model1=tf.keras.Sequential()\n",
    "Model1.add(tf.keras.layers.SimpleRNN(units=2, input_shape=(X.shape[1],X.shape[2])))\n",
    "Model1.add(tf.keras.layers.Dense(units=Y.shape[1]))\n",
    "Model1.compile(loss='mse', optimizer=tf.keras.optimizers.Adam(lr=0.001))\n",
    "Model1.summary()"
   ]
  },
  {
   "cell_type": "markdown",
   "id": "c9546f8a",
   "metadata": {},
   "source": [
    "# Case 2 "
   ]
  },
  {
   "cell_type": "code",
   "execution_count": 3,
   "id": "a952b8a6",
   "metadata": {},
   "outputs": [
    {
     "name": "stdout",
     "output_type": "stream",
     "text": [
      "(6, 3, 3)\n",
      "(6, 1)\n",
      "Model: \"sequential_1\"\n",
      "_________________________________________________________________\n",
      "Layer (type)                 Output Shape              Param #   \n",
      "=================================================================\n",
      "simple_rnn_1 (SimpleRNN)     (None, 2)                 12        \n",
      "_________________________________________________________________\n",
      "dense_1 (Dense)              (None, 1)                 3         \n",
      "=================================================================\n",
      "Total params: 15\n",
      "Trainable params: 15\n",
      "Non-trainable params: 0\n",
      "_________________________________________________________________\n"
     ]
    }
   ],
   "source": [
    "# RNN 구조 Many to One Model 2\n",
    "X = np.array([[[1,2,3],[7,8,9],[0,0,0]],[[2,3,4],[8,9,10],[0,0,0]],\n",
    "              [[3,4,5],[9,10,11],[0,0,0]],[[4,5,6],[10,11,12],[0,0,0]],\n",
    "              [[5,6,7],[11,12,13],[0,0,0]],[[6,7,8],[12,13,14],[0,0,0]]])\n",
    "Y = np.array([[6],[7],[8],[9],[10],[11]])\n",
    "# X.shape = (Data 수, Sequence Length, Input Dim)\n",
    "print(X.shape)\n",
    "# Y.shape = (Data 수, Output Dim)\n",
    "print(Y.shape)\n",
    "Model2=tf.keras.Sequential()\n",
    "Model2.add(tf.keras.layers.SimpleRNN(units=2, input_shape=(X.shape[1],X.shape[2])))\n",
    "Model2.add(tf.keras.layers.Dense(units=Y.shape[1]))\n",
    "Model2.compile(loss='mse', optimizer=tf.keras.optimizers.Adam(lr=0.001))\n",
    "Model2.summary()"
   ]
  },
  {
   "cell_type": "markdown",
   "id": "db0f2295",
   "metadata": {},
   "source": [
    "# Case 3"
   ]
  },
  {
   "cell_type": "code",
   "execution_count": 4,
   "id": "064b661b",
   "metadata": {},
   "outputs": [
    {
     "name": "stdout",
     "output_type": "stream",
     "text": [
      "(6, 2, 3)\n",
      "(6, 1)\n",
      "Model: \"sequential_2\"\n",
      "_________________________________________________________________\n",
      "Layer (type)                 Output Shape              Param #   \n",
      "=================================================================\n",
      "simple_rnn_2 (SimpleRNN)     (None, 2, 2)              12        \n",
      "_________________________________________________________________\n",
      "simple_rnn_3 (SimpleRNN)     (None, 2, 3)              18        \n",
      "_________________________________________________________________\n",
      "simple_rnn_4 (SimpleRNN)     (None, 4)                 32        \n",
      "_________________________________________________________________\n",
      "dense_2 (Dense)              (None, 1)                 5         \n",
      "=================================================================\n",
      "Total params: 67\n",
      "Trainable params: 67\n",
      "Non-trainable params: 0\n",
      "_________________________________________________________________\n"
     ]
    }
   ],
   "source": [
    "# RNN 구조 Many to One Model 3\n",
    "X = np.array([[[1,2,3],[7,8,9]],[[2,3,4],[8,9,10]],[[3,4,5],[9,10,11]],\n",
    "              [[4,5,6],[10,11,12]],[[5,6,7],[11,12,13]],[[6,7,8],[12,13,14]]])\n",
    "Y = np.array([[6],[7],[8],[9],[10],[11]])\n",
    "# X.shape = (Data 수, Sequence Length, Input Dim)\n",
    "print(X.shape)\n",
    "# Y.shape = (Data 수, Output Dim)\n",
    "print(Y.shape)\n",
    "Model3=tf.keras.Sequential()\n",
    "Model3.add(tf.keras.layers.SimpleRNN(units=2, input_shape=(X.shape[1],X.shape[2]),return_sequences=True))\n",
    "Model3.add(tf.keras.layers.SimpleRNN(units=3,return_sequences=True))\n",
    "Model3.add(tf.keras.layers.SimpleRNN(units=4))\n",
    "Model3.add(tf.keras.layers.Dense(units=Y.shape[1]))\n",
    "Model3.compile(loss='mse', optimizer=tf.keras.optimizers.Adam(lr=0.001))\n",
    "Model3.summary()"
   ]
  },
  {
   "cell_type": "markdown",
   "id": "a76767a0",
   "metadata": {},
   "source": [
    "# Case 4"
   ]
  },
  {
   "cell_type": "code",
   "execution_count": 5,
   "id": "ce82fd1c",
   "metadata": {},
   "outputs": [
    {
     "name": "stdout",
     "output_type": "stream",
     "text": [
      "(6, 3, 3)\n",
      "(6, 1)\n",
      "Model: \"sequential_3\"\n",
      "_________________________________________________________________\n",
      "Layer (type)                 Output Shape              Param #   \n",
      "=================================================================\n",
      "simple_rnn_5 (SimpleRNN)     (None, 3, 2)              12        \n",
      "_________________________________________________________________\n",
      "simple_rnn_6 (SimpleRNN)     (None, 3, 3)              18        \n",
      "_________________________________________________________________\n",
      "simple_rnn_7 (SimpleRNN)     (None, 4)                 32        \n",
      "_________________________________________________________________\n",
      "dense_3 (Dense)              (None, 1)                 5         \n",
      "=================================================================\n",
      "Total params: 67\n",
      "Trainable params: 67\n",
      "Non-trainable params: 0\n",
      "_________________________________________________________________\n"
     ]
    }
   ],
   "source": [
    "# RNN 구조 Many to One Model 4\n",
    "X = np.array([[[1,2,3],[7,8,9],[0,0,0]],[[2,3,4],[8,9,10],[0,0,0]],\n",
    "              [[3,4,5],[9,10,11],[0,0,0]],[[4,5,6],[10,11,12],[0,0,0]],\n",
    "              [[5,6,7],[11,12,13],[0,0,0]],[[6,7,8],[12,13,14],[0,0,0]]])\n",
    "Y = np.array([[6],[7],[8],[9],[10],[11]])\n",
    "# X.shape = (Data 수, Sequence Length, Input Dim)\n",
    "print(X.shape)\n",
    "# Y.shape = (Data 수, Output Dim)\n",
    "print(Y.shape)\n",
    "Model4=tf.keras.Sequential()\n",
    "Model4.add(tf.keras.layers.SimpleRNN(units=2, input_shape=(X.shape[1],X.shape[2]),return_sequences=True))\n",
    "Model4.add(tf.keras.layers.SimpleRNN(units=3, return_sequences=True))\n",
    "Model4.add(tf.keras.layers.SimpleRNN(units=4))\n",
    "Model4.add(tf.keras.layers.Dense(units=Y.shape[1]))\n",
    "Model4.compile(loss='mse', optimizer=tf.keras.optimizers.Adam(lr=0.001))\n",
    "Model4.summary()"
   ]
  }
 ],
 "metadata": {
  "kernelspec": {
   "display_name": "Python 3 (ipykernel)",
   "language": "python",
   "name": "python3"
  },
  "language_info": {
   "codemirror_mode": {
    "name": "ipython",
    "version": 3
   },
   "file_extension": ".py",
   "mimetype": "text/x-python",
   "name": "python",
   "nbconvert_exporter": "python",
   "pygments_lexer": "ipython3",
   "version": "3.9.13"
  }
 },
 "nbformat": 4,
 "nbformat_minor": 5
}
